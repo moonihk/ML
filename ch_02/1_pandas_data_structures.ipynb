{
  "cells": [
    {
      "cell_type": "markdown",
      "metadata": {
        "id": "view-in-github",
        "colab_type": "text"
      },
      "source": [
        "<a href=\"https://colab.research.google.com/github/moonihk/ML/blob/main/ch_02/1_pandas_data_structures.ipynb\" target=\"_parent\"><img src=\"https://colab.research.google.com/assets/colab-badge.svg\" alt=\"Open In Colab\"/></a>"
      ]
    },
    {
      "cell_type": "markdown",
      "metadata": {
        "id": "phlzd-93ggqU"
      },
      "source": [
        "# Pandas Data Structures Overview\n",
        "In this section, we will discuss the `Series`, `Index`, and `DataFrame` classes. To do so, we will read in a snippet of the CSV file we will work with later. Don't worry about that part yet, though.\n",
        "\n",
        "## About the Data\n",
        "In this notebook, we will be working with 5 rows from the earthquake data collected over September 18, 2018 - October 13, 2018 (obtained from the US Geological Survey (USGS) using the [USGS API](https://earthquake.usgs.gov/fdsnws/event/1/))\n",
        "\n",
        "## Working with NumPy Arrays\n",
        "Let's read in a short CSV file (using `numpy`) for some sample data."
      ]
    },
    {
      "cell_type": "code",
      "source": [
        "!wget https://raw.githubusercontent.com/stefmolin/Hands-On-Data-Analysis-with-Pandas-2nd-edition/master/ch_02/data/earthquakes.csv\n",
        "#!wget download this dataset\n",
        "\n",
        "!wget https://raw.githubusercontent.com/stefmolin/Hands-On-Data-Analysis-with-Pandas-2nd-edition/master/ch_02/data/example_data.csv\n",
        "\n",
        "!wget https://raw.githubusercontent.com/stefmolin/Hands-On-Data-Analysis-with-Pandas-2nd-edition/master/ch_02/data/parsed.csv\n",
        "\n",
        "!wget https://raw.githubusercontent.com/stefmolin/Hands-On-Data-Analysis-with-Pandas-2nd-edition/master/ch_02/data/quakes.db\n",
        "\n",
        "!wget https://raw.githubusercontent.com/stefmolin/Hands-On-Data-Analysis-with-Pandas-2nd-edition/master/ch_02/data/tsunamis.csv\n",
        "\n",
        "!mkdir data\n",
        "#!mkdir diractory\n",
        "\n",
        "!mv *.csv data\n",
        "\n",
        "!mv *.db data"
      ],
      "metadata": {
        "id": "Wq-hDEOdg9bh",
        "outputId": "d805282e-2ba3-4b2f-e40f-80bf781eb8d8",
        "colab": {
          "base_uri": "https://localhost:8080/"
        }
      },
      "execution_count": null,
      "outputs": [
        {
          "output_type": "stream",
          "name": "stdout",
          "text": [
            "--2024-09-12 04:38:10--  https://raw.githubusercontent.com/stefmolin/Hands-On-Data-Analysis-with-Pandas-2nd-edition/master/ch_02/data/earthquakes.csv\n",
            "Resolving raw.githubusercontent.com (raw.githubusercontent.com)... 185.199.109.133, 185.199.111.133, 185.199.110.133, ...\n",
            "Connecting to raw.githubusercontent.com (raw.githubusercontent.com)|185.199.109.133|:443... connected.\n",
            "HTTP request sent, awaiting response... 200 OK\n",
            "Length: 3515656 (3.4M) [text/plain]\n",
            "Saving to: ‘earthquakes.csv’\n",
            "\n",
            "earthquakes.csv     100%[===================>]   3.35M  --.-KB/s    in 0.06s   \n",
            "\n",
            "2024-09-12 04:38:10 (60.6 MB/s) - ‘earthquakes.csv’ saved [3515656/3515656]\n",
            "\n",
            "--2024-09-12 04:38:10--  https://raw.githubusercontent.com/stefmolin/Hands-On-Data-Analysis-with-Pandas-2nd-edition/master/ch_02/data/example_data.csv\n",
            "Resolving raw.githubusercontent.com (raw.githubusercontent.com)... 185.199.108.133, 185.199.109.133, 185.199.111.133, ...\n",
            "Connecting to raw.githubusercontent.com (raw.githubusercontent.com)|185.199.108.133|:443... connected.\n",
            "HTTP request sent, awaiting response... 200 OK\n",
            "Length: 397 [text/plain]\n",
            "Saving to: ‘example_data.csv’\n",
            "\n",
            "example_data.csv    100%[===================>]     397  --.-KB/s    in 0s      \n",
            "\n",
            "2024-09-12 04:38:10 (16.5 MB/s) - ‘example_data.csv’ saved [397/397]\n",
            "\n",
            "--2024-09-12 04:38:10--  https://raw.githubusercontent.com/stefmolin/Hands-On-Data-Analysis-with-Pandas-2nd-edition/master/ch_02/data/parsed.csv\n",
            "Resolving raw.githubusercontent.com (raw.githubusercontent.com)... 185.199.108.133, 185.199.109.133, 185.199.110.133, ...\n",
            "Connecting to raw.githubusercontent.com (raw.githubusercontent.com)|185.199.108.133|:443... connected.\n",
            "HTTP request sent, awaiting response... 200 OK\n",
            "Length: 3616212 (3.4M) [text/plain]\n",
            "Saving to: ‘parsed.csv’\n",
            "\n",
            "parsed.csv          100%[===================>]   3.45M  --.-KB/s    in 0.05s   \n",
            "\n",
            "2024-09-12 04:38:10 (72.9 MB/s) - ‘parsed.csv’ saved [3616212/3616212]\n",
            "\n",
            "--2024-09-12 04:38:10--  https://raw.githubusercontent.com/stefmolin/Hands-On-Data-Analysis-with-Pandas-2nd-edition/master/ch_02/data/quakes.db\n",
            "Resolving raw.githubusercontent.com (raw.githubusercontent.com)... 185.199.108.133, 185.199.109.133, 185.199.110.133, ...\n",
            "Connecting to raw.githubusercontent.com (raw.githubusercontent.com)|185.199.108.133|:443... connected.\n",
            "HTTP request sent, awaiting response... 200 OK\n",
            "Length: 16384 (16K) [application/octet-stream]\n",
            "Saving to: ‘quakes.db’\n",
            "\n",
            "quakes.db           100%[===================>]  16.00K  --.-KB/s    in 0.001s  \n",
            "\n",
            "2024-09-12 04:38:11 (24.2 MB/s) - ‘quakes.db’ saved [16384/16384]\n",
            "\n",
            "--2024-09-12 04:38:11--  https://raw.githubusercontent.com/stefmolin/Hands-On-Data-Analysis-with-Pandas-2nd-edition/master/ch_02/data/tsunamis.csv\n",
            "Resolving raw.githubusercontent.com (raw.githubusercontent.com)... 185.199.108.133, 185.199.109.133, 185.199.110.133, ...\n",
            "Connecting to raw.githubusercontent.com (raw.githubusercontent.com)|185.199.108.133|:443... connected.\n",
            "HTTP request sent, awaiting response... 200 OK\n",
            "Length: 6792 (6.6K) [text/plain]\n",
            "Saving to: ‘tsunamis.csv’\n",
            "\n",
            "tsunamis.csv        100%[===================>]   6.63K  --.-KB/s    in 0s      \n",
            "\n",
            "2024-09-12 04:38:11 (66.5 MB/s) - ‘tsunamis.csv’ saved [6792/6792]\n",
            "\n"
          ]
        }
      ]
    },
    {
      "cell_type": "code",
      "source": [
        "!cat data/example_data.csv\n",
        "#print, check ;"
      ],
      "metadata": {
        "colab": {
          "base_uri": "https://localhost:8080/"
        },
        "id": "FIce6z7YhbN6",
        "outputId": "e822f977-6c51-4745-f072-1879c4d7fb22"
      },
      "execution_count": null,
      "outputs": [
        {
          "output_type": "stream",
          "name": "stdout",
          "text": [
            "time;place;magType;mag;alert;tsunami\n",
            "2018-10-13 11:10:23.560;262km NW of Ozernovskiy, Russia;mww;6.7;green;1\n",
            "2018-10-13 04:34:15.580;25km E of Bitung, Indonesia;mww;5.2;green;0\n",
            "2018-10-13 00:13:46.220;42km WNW of Sola, Vanuatu;mww;5.7;green;0\n",
            "2018-10-12 21:09:49.240;13km E of Nueva Concepcion, Guatemala;mww;5.7;green;0\n",
            "2018-10-12 02:52:03.620;128km SE of Kimbe, Papua New Guinea;mww;5.6;green;1\n"
          ]
        }
      ]
    },
    {
      "cell_type": "code",
      "execution_count": null,
      "metadata": {
        "id": "L7VycerGggqX",
        "outputId": "82cb62e1-0a0e-437a-8b46-fb49783507e6",
        "colab": {
          "base_uri": "https://localhost:8080/"
        }
      },
      "outputs": [
        {
          "output_type": "execute_result",
          "data": {
            "text/plain": [
              "array([('2018-10-13 11:10:23.560', '262km NW of Ozernovskiy, Russia', 'mww', 6.7, 'green', 1),\n",
              "       ('2018-10-13 04:34:15.580', '25km E of Bitung, Indonesia', 'mww', 5.2, 'green', 0),\n",
              "       ('2018-10-13 00:13:46.220', '42km WNW of Sola, Vanuatu', 'mww', 5.7, 'green', 0),\n",
              "       ('2018-10-12 21:09:49.240', '13km E of Nueva Concepcion, Guatemala', 'mww', 5.7, 'green', 0),\n",
              "       ('2018-10-12 02:52:03.620', '128km SE of Kimbe, Papua New Guinea', 'mww', 5.6, 'green', 1)],\n",
              "      dtype=[('time', '<U23'), ('place', '<U37'), ('magType', '<U3'), ('mag', '<f8'), ('alert', '<U5'), ('tsunami', '<i8')])"
            ]
          },
          "metadata": {},
          "execution_count": 4
        }
      ],
      "source": [
        "import numpy as np\n",
        "\n",
        "data = np.genfromtxt(\n",
        "    'data/example_data.csv', delimiter=';',\n",
        "    names=True, dtype=None, encoding='UTF'\n",
        ")\n",
        "data"
      ]
    },
    {
      "cell_type": "markdown",
      "metadata": {
        "id": "qhimsrfvggqZ"
      },
      "source": [
        "We can find the dimensions with the `shape` attribute:"
      ]
    },
    {
      "cell_type": "code",
      "execution_count": null,
      "metadata": {
        "id": "Sej0Hf04ggqZ",
        "outputId": "041a04fa-9577-4973-e026-077b71f3bf36",
        "colab": {
          "base_uri": "https://localhost:8080/"
        }
      },
      "outputs": [
        {
          "output_type": "execute_result",
          "data": {
            "text/plain": [
              "(5,)"
            ]
          },
          "metadata": {},
          "execution_count": 5
        }
      ],
      "source": [
        "data.shape"
      ]
    },
    {
      "cell_type": "code",
      "source": [
        "data[0]"
      ],
      "metadata": {
        "colab": {
          "base_uri": "https://localhost:8080/"
        },
        "id": "rFRE4P89hxgc",
        "outputId": "7a4485fc-3299-4a71-e986-3e1980c11439"
      },
      "execution_count": null,
      "outputs": [
        {
          "output_type": "execute_result",
          "data": {
            "text/plain": [
              "('2018-10-13 11:10:23.560', '262km NW of Ozernovskiy, Russia', 'mww', 6.7, 'green', 1)"
            ]
          },
          "metadata": {},
          "execution_count": 6
        }
      ]
    },
    {
      "cell_type": "markdown",
      "metadata": {
        "id": "rQWslXuwggqZ"
      },
      "source": [
        "We can find the data types with the `dtype` attribute:"
      ]
    },
    {
      "cell_type": "code",
      "execution_count": null,
      "metadata": {
        "id": "rMjMXOs3ggqa",
        "outputId": "6bfb12a3-3d11-40a0-fc6f-5e5305884712",
        "colab": {
          "base_uri": "https://localhost:8080/"
        }
      },
      "outputs": [
        {
          "output_type": "execute_result",
          "data": {
            "text/plain": [
              "dtype([('time', '<U23'), ('place', '<U37'), ('magType', '<U3'), ('mag', '<f8'), ('alert', '<U5'), ('tsunami', '<i8')])"
            ]
          },
          "metadata": {},
          "execution_count": 7
        }
      ],
      "source": [
        "data.dtype"
      ]
    },
    {
      "cell_type": "markdown",
      "metadata": {
        "id": "Cqb0-8eLggqa"
      },
      "source": [
        "Each of the entries in the array is a row from the CSV file. NumPy arrays contain a single data type (unlike lists, which allow mixed types); this allows for fast, vectorized operations. When we read in the data, we got an array of `numpy.void` objects, which are created to store flexible types. This is because NumPy has to store several different data types per row: four strings, a float, and an integer. This means we can't take advantage of the performance improvements NumPy provides for single data type objects.\n",
        "\n",
        "Say we want to find the maximum magnitude&mdash;we can use a **[list comprehension](https://www.python.org/dev/peps/pep-0202/)** to select the third index of each row, which is represented as a `numpy.void` object. This makes a list, meaning that we can take the maximum using the `max()` function:"
      ]
    },
    {
      "cell_type": "code",
      "source": [
        "#Task1: Use a for loop inside a list in Python to create a list of odd numbers between 1 and 100.\n",
        "\n",
        "odd_numbers = [row for row in range(1, 100, 2)]\n",
        "odd_numbers"
      ],
      "metadata": {
        "colab": {
          "base_uri": "https://localhost:8080/"
        },
        "id": "ip4jkKIeoEec",
        "outputId": "e9f63893-ce17-47ae-96bf-c5d01bcfe79f"
      },
      "execution_count": null,
      "outputs": [
        {
          "output_type": "execute_result",
          "data": {
            "text/plain": [
              "[1,\n",
              " 3,\n",
              " 5,\n",
              " 7,\n",
              " 9,\n",
              " 11,\n",
              " 13,\n",
              " 15,\n",
              " 17,\n",
              " 19,\n",
              " 21,\n",
              " 23,\n",
              " 25,\n",
              " 27,\n",
              " 29,\n",
              " 31,\n",
              " 33,\n",
              " 35,\n",
              " 37,\n",
              " 39,\n",
              " 41,\n",
              " 43,\n",
              " 45,\n",
              " 47,\n",
              " 49,\n",
              " 51,\n",
              " 53,\n",
              " 55,\n",
              " 57,\n",
              " 59,\n",
              " 61,\n",
              " 63,\n",
              " 65,\n",
              " 67,\n",
              " 69,\n",
              " 71,\n",
              " 73,\n",
              " 75,\n",
              " 77,\n",
              " 79,\n",
              " 81,\n",
              " 83,\n",
              " 85,\n",
              " 87,\n",
              " 89,\n",
              " 91,\n",
              " 93,\n",
              " 95,\n",
              " 97,\n",
              " 99]"
            ]
          },
          "metadata": {},
          "execution_count": 47
        }
      ]
    },
    {
      "cell_type": "code",
      "source": [
        "[row for row in range(5)]"
      ],
      "metadata": {
        "colab": {
          "base_uri": "https://localhost:8080/"
        },
        "id": "AqNYmZdpiAws",
        "outputId": "eaa9a1e7-d083-40a3-88f9-f0e9d1b15885"
      },
      "execution_count": null,
      "outputs": [
        {
          "output_type": "execute_result",
          "data": {
            "text/plain": [
              "[0, 1, 2, 3, 4]"
            ]
          },
          "metadata": {},
          "execution_count": 9
        }
      ]
    },
    {
      "cell_type": "code",
      "source": [
        "for row in data :\n",
        "    print(row[3]) #start 0"
      ],
      "metadata": {
        "colab": {
          "base_uri": "https://localhost:8080/"
        },
        "id": "UwsI84jYiNRD",
        "outputId": "104d9a18-4783-429d-c704-661219b73812"
      },
      "execution_count": null,
      "outputs": [
        {
          "output_type": "stream",
          "name": "stdout",
          "text": [
            "6.7\n",
            "5.2\n",
            "5.7\n",
            "5.7\n",
            "5.6\n"
          ]
        }
      ]
    },
    {
      "cell_type": "code",
      "source": [
        "max([row[3] for row in data]) #make a list"
      ],
      "metadata": {
        "colab": {
          "base_uri": "https://localhost:8080/"
        },
        "id": "w7YStgpNiLQm",
        "outputId": "b351f314-a1dd-43b0-9899-56955e5ed274"
      },
      "execution_count": null,
      "outputs": [
        {
          "output_type": "execute_result",
          "data": {
            "text/plain": [
              "6.7"
            ]
          },
          "metadata": {},
          "execution_count": 13
        }
      ]
    },
    {
      "cell_type": "code",
      "execution_count": null,
      "metadata": {
        "id": "kN77sKHbggqa",
        "outputId": "0bef782b-a841-476b-fdd0-fc3d6b49c99c",
        "colab": {
          "base_uri": "https://localhost:8080/"
        }
      },
      "outputs": [
        {
          "output_type": "stream",
          "name": "stdout",
          "text": [
            "4.16 µs ± 65.1 ns per loop (mean ± std. dev. of 7 runs, 100000 loops each)\n"
          ]
        }
      ],
      "source": [
        "%%timeit\n",
        "max([row[3] for row in data])"
      ]
    },
    {
      "cell_type": "markdown",
      "metadata": {
        "id": "uODDRPMbggqb"
      },
      "source": [
        "If we, instead, create a NumPy array for each column, this operation is much easier (and more efficient) to perform. We can use a **[dictionary comprehension](https://www.python.org/dev/peps/pep-0274/)** to make a dictionary where the keys are the column names and the values are NumPy arrays of the data:"
      ]
    },
    {
      "cell_type": "code",
      "source": [
        "data #dtype=[('key',)]"
      ],
      "metadata": {
        "colab": {
          "base_uri": "https://localhost:8080/"
        },
        "id": "p24EEJ8Ei9gf",
        "outputId": "208cafca-a168-46c4-e12f-afc5afd67080"
      },
      "execution_count": null,
      "outputs": [
        {
          "output_type": "execute_result",
          "data": {
            "text/plain": [
              "array([('2018-10-13 11:10:23.560', '262km NW of Ozernovskiy, Russia', 'mww', 6.7, 'green', 1),\n",
              "       ('2018-10-13 04:34:15.580', '25km E of Bitung, Indonesia', 'mww', 5.2, 'green', 0),\n",
              "       ('2018-10-13 00:13:46.220', '42km WNW of Sola, Vanuatu', 'mww', 5.7, 'green', 0),\n",
              "       ('2018-10-12 21:09:49.240', '13km E of Nueva Concepcion, Guatemala', 'mww', 5.7, 'green', 0),\n",
              "       ('2018-10-12 02:52:03.620', '128km SE of Kimbe, Papua New Guinea', 'mww', 5.6, 'green', 1)],\n",
              "      dtype=[('time', '<U23'), ('place', '<U37'), ('magType', '<U3'), ('mag', '<f8'), ('alert', '<U5'), ('tsunami', '<i8')])"
            ]
          },
          "metadata": {},
          "execution_count": 15
        }
      ]
    },
    {
      "cell_type": "code",
      "source": [
        "data.dtype.names"
      ],
      "metadata": {
        "colab": {
          "base_uri": "https://localhost:8080/"
        },
        "id": "wk-bVrXzjIrG",
        "outputId": "d94664a6-45b3-4bb3-f748-38fe20f07553"
      },
      "execution_count": null,
      "outputs": [
        {
          "output_type": "execute_result",
          "data": {
            "text/plain": [
              "('time', 'place', 'magType', 'mag', 'alert', 'tsunami')"
            ]
          },
          "metadata": {},
          "execution_count": 18
        }
      ]
    },
    {
      "cell_type": "code",
      "source": [
        "for i, col in enumerate(data.dtype.names) :\n",
        "    print(i, col)"
      ],
      "metadata": {
        "colab": {
          "base_uri": "https://localhost:8080/"
        },
        "id": "mGpeFpaqjC6W",
        "outputId": "f8f197bf-1868-4487-a487-bf8a8a113a10"
      },
      "execution_count": null,
      "outputs": [
        {
          "output_type": "stream",
          "name": "stdout",
          "text": [
            "0 time\n",
            "1 place\n",
            "2 magType\n",
            "3 mag\n",
            "4 alert\n",
            "5 tsunami\n"
          ]
        }
      ]
    },
    {
      "cell_type": "code",
      "source": [
        "i = 0\n",
        "np.array([row[i] for row in data])"
      ],
      "metadata": {
        "colab": {
          "base_uri": "https://localhost:8080/"
        },
        "id": "EgqQtZBvjbpr",
        "outputId": "947d5439-32ef-4ae2-f564-5756e3f93f85"
      },
      "execution_count": null,
      "outputs": [
        {
          "output_type": "execute_result",
          "data": {
            "text/plain": [
              "array(['2018-10-13 11:10:23.560', '2018-10-13 04:34:15.580',\n",
              "       '2018-10-13 00:13:46.220', '2018-10-12 21:09:49.240',\n",
              "       '2018-10-12 02:52:03.620'], dtype='<U23')"
            ]
          },
          "metadata": {},
          "execution_count": 19
        }
      ]
    },
    {
      "cell_type": "code",
      "execution_count": null,
      "metadata": {
        "id": "A7GrbAwSggqb",
        "outputId": "cc705d8c-f1bf-43bb-8ca9-559ec03116bc",
        "colab": {
          "base_uri": "https://localhost:8080/"
        }
      },
      "outputs": [
        {
          "output_type": "execute_result",
          "data": {
            "text/plain": [
              "{'time': array(['2018-10-13 11:10:23.560', '2018-10-13 04:34:15.580',\n",
              "        '2018-10-13 00:13:46.220', '2018-10-12 21:09:49.240',\n",
              "        '2018-10-12 02:52:03.620'], dtype='<U23'),\n",
              " 'place': array(['262km NW of Ozernovskiy, Russia', '25km E of Bitung, Indonesia',\n",
              "        '42km WNW of Sola, Vanuatu',\n",
              "        '13km E of Nueva Concepcion, Guatemala',\n",
              "        '128km SE of Kimbe, Papua New Guinea'], dtype='<U37'),\n",
              " 'magType': array(['mww', 'mww', 'mww', 'mww', 'mww'], dtype='<U3'),\n",
              " 'mag': array([6.7, 5.2, 5.7, 5.7, 5.6]),\n",
              " 'alert': array(['green', 'green', 'green', 'green', 'green'], dtype='<U5'),\n",
              " 'tsunami': array([1, 0, 0, 0, 1])}"
            ]
          },
          "metadata": {},
          "execution_count": 20
        }
      ],
      "source": [
        "array_dict = {\n",
        "    col: np.array([row[i] for row in data]) #key: value\n",
        "    for i, col in enumerate(data.dtype.names)\n",
        "}\n",
        "array_dict"
      ]
    },
    {
      "cell_type": "markdown",
      "metadata": {
        "id": "Jb_s0cIvggqb"
      },
      "source": [
        "Grabbing the maximum magnitude is now simply a matter of selecting the `mag` key and calling the `max()` method. This is nearly twice as fast as the list comprehension implementation when dealing with just 5 entries, imagine how much worse the first attempt will perform on large data sets:"
      ]
    },
    {
      "cell_type": "code",
      "source": [
        "array_dict['mag'].max()"
      ],
      "metadata": {
        "colab": {
          "base_uri": "https://localhost:8080/"
        },
        "id": "kFg5Ucf_jwQg",
        "outputId": "d2f2e08c-e2bd-4ace-d5c8-e3fae0b00eaf"
      },
      "execution_count": null,
      "outputs": [
        {
          "output_type": "execute_result",
          "data": {
            "text/plain": [
              "6.7"
            ]
          },
          "metadata": {},
          "execution_count": 22
        }
      ]
    },
    {
      "cell_type": "code",
      "execution_count": null,
      "metadata": {
        "id": "6YXdHTR2ggqc",
        "outputId": "2f45d766-2eb7-4e63-a6fc-6228430aaa63",
        "colab": {
          "base_uri": "https://localhost:8080/"
        }
      },
      "outputs": [
        {
          "output_type": "stream",
          "name": "stdout",
          "text": [
            "2.22 µs ± 796 ns per loop (mean ± std. dev. of 7 runs, 1000000 loops each)\n"
          ]
        }
      ],
      "source": [
        "%%timeit\n",
        "array_dict['mag'].max()"
      ]
    },
    {
      "cell_type": "markdown",
      "metadata": {
        "id": "iUx8XKUoggqc"
      },
      "source": [
        "However, this representation has other issues. Say we wanted to grab all the information for the earthquake with the maximum magnitude, how would we go about that? We would need to find the index of the maximum and then for each of the keys in the dictionary grab that index:"
      ]
    },
    {
      "cell_type": "code",
      "execution_count": null,
      "metadata": {
        "id": "wWfMUmCoggqc",
        "outputId": "541e1691-bee7-4ac2-d50f-b88e7222ef1f",
        "colab": {
          "base_uri": "https://localhost:8080/"
        }
      },
      "outputs": [
        {
          "output_type": "execute_result",
          "data": {
            "text/plain": [
              "array(['2018-10-13 11:10:23.560', '262km NW of Ozernovskiy, Russia',\n",
              "       'mww', '6.7', 'green', '1'], dtype='<U32')"
            ]
          },
          "metadata": {},
          "execution_count": 23
        }
      ],
      "source": [
        "np.array([\n",
        "    value[array_dict['mag'].argmax()]\n",
        "    for key, value in array_dict.items()\n",
        "])"
      ]
    },
    {
      "cell_type": "markdown",
      "metadata": {
        "id": "M97wot2gggqc"
      },
      "source": [
        "The result is now a NumPy array of strings (our numeric values were converted), and we are now in the format from earlier. Also, consider trying to sort the data by magnitude from smallest to largest. In the first representation, we would have to sort the rows by examining the 3rd index. With the second representation, we would have to determine the order for the indices from the `mag` column, and then sort all the other arrays with those same indices. Clearly, working with several NumPy arrays of different data types at once is a bit cumbersome. However, `pandas` builds on top of NumPy arrays to make this easier. Let's start our exploration of `pandas` with an overview of the data structures.\n",
        "\n",
        "## `Series`\n",
        "The `Series` class provides a data structure for arrays of a single type with some additional functionality."
      ]
    },
    {
      "cell_type": "code",
      "source": [
        "array_dict #each value = Series"
      ],
      "metadata": {
        "colab": {
          "base_uri": "https://localhost:8080/"
        },
        "id": "IsmxzsdWkNhK",
        "outputId": "77b1b28e-38da-47e0-9f91-a47eaf0bf700"
      },
      "execution_count": null,
      "outputs": [
        {
          "output_type": "execute_result",
          "data": {
            "text/plain": [
              "{'time': array(['2018-10-13 11:10:23.560', '2018-10-13 04:34:15.580',\n",
              "        '2018-10-13 00:13:46.220', '2018-10-12 21:09:49.240',\n",
              "        '2018-10-12 02:52:03.620'], dtype='<U23'),\n",
              " 'place': array(['262km NW of Ozernovskiy, Russia', '25km E of Bitung, Indonesia',\n",
              "        '42km WNW of Sola, Vanuatu',\n",
              "        '13km E of Nueva Concepcion, Guatemala',\n",
              "        '128km SE of Kimbe, Papua New Guinea'], dtype='<U37'),\n",
              " 'magType': array(['mww', 'mww', 'mww', 'mww', 'mww'], dtype='<U3'),\n",
              " 'mag': array([6.7, 5.2, 5.7, 5.7, 5.6]),\n",
              " 'alert': array(['green', 'green', 'green', 'green', 'green'], dtype='<U5'),\n",
              " 'tsunami': array([1, 0, 0, 0, 1])}"
            ]
          },
          "metadata": {},
          "execution_count": 25
        }
      ]
    },
    {
      "cell_type": "code",
      "source": [
        "array_dict['place']"
      ],
      "metadata": {
        "colab": {
          "base_uri": "https://localhost:8080/"
        },
        "id": "GSLQTfpgkX36",
        "outputId": "7b5a3bd2-e35d-4283-9755-9f9ccb48881d"
      },
      "execution_count": null,
      "outputs": [
        {
          "output_type": "execute_result",
          "data": {
            "text/plain": [
              "array(['262km NW of Ozernovskiy, Russia', '25km E of Bitung, Indonesia',\n",
              "       '42km WNW of Sola, Vanuatu',\n",
              "       '13km E of Nueva Concepcion, Guatemala',\n",
              "       '128km SE of Kimbe, Papua New Guinea'], dtype='<U37')"
            ]
          },
          "metadata": {},
          "execution_count": 26
        }
      ]
    },
    {
      "cell_type": "code",
      "source": [
        "#Task1: Make array_dict[‘mag’] as a Series object. Check attributes of the series object.\n",
        "\n",
        "Series_mag = pd.Series(array_dict['mag'])"
      ],
      "metadata": {
        "id": "sZ9pl9Qbo5uB"
      },
      "execution_count": null,
      "outputs": []
    },
    {
      "cell_type": "code",
      "execution_count": null,
      "metadata": {
        "id": "LGwyG2ikggqc",
        "outputId": "6acfc5ad-2448-4859-c39b-e3b3d4447bd4",
        "colab": {
          "base_uri": "https://localhost:8080/",
          "height": 241
        }
      },
      "outputs": [
        {
          "output_type": "execute_result",
          "data": {
            "text/plain": [
              "0          262km NW of Ozernovskiy, Russia\n",
              "1              25km E of Bitung, Indonesia\n",
              "2                42km WNW of Sola, Vanuatu\n",
              "3    13km E of Nueva Concepcion, Guatemala\n",
              "4      128km SE of Kimbe, Papua New Guinea\n",
              "Name: place, dtype: object"
            ],
            "text/html": [
              "<div>\n",
              "<style scoped>\n",
              "    .dataframe tbody tr th:only-of-type {\n",
              "        vertical-align: middle;\n",
              "    }\n",
              "\n",
              "    .dataframe tbody tr th {\n",
              "        vertical-align: top;\n",
              "    }\n",
              "\n",
              "    .dataframe thead th {\n",
              "        text-align: right;\n",
              "    }\n",
              "</style>\n",
              "<table border=\"1\" class=\"dataframe\">\n",
              "  <thead>\n",
              "    <tr style=\"text-align: right;\">\n",
              "      <th></th>\n",
              "      <th>place</th>\n",
              "    </tr>\n",
              "  </thead>\n",
              "  <tbody>\n",
              "    <tr>\n",
              "      <th>0</th>\n",
              "      <td>262km NW of Ozernovskiy, Russia</td>\n",
              "    </tr>\n",
              "    <tr>\n",
              "      <th>1</th>\n",
              "      <td>25km E of Bitung, Indonesia</td>\n",
              "    </tr>\n",
              "    <tr>\n",
              "      <th>2</th>\n",
              "      <td>42km WNW of Sola, Vanuatu</td>\n",
              "    </tr>\n",
              "    <tr>\n",
              "      <th>3</th>\n",
              "      <td>13km E of Nueva Concepcion, Guatemala</td>\n",
              "    </tr>\n",
              "    <tr>\n",
              "      <th>4</th>\n",
              "      <td>128km SE of Kimbe, Papua New Guinea</td>\n",
              "    </tr>\n",
              "  </tbody>\n",
              "</table>\n",
              "</div><br><label><b>dtype:</b> object</label>"
            ]
          },
          "metadata": {},
          "execution_count": 24
        }
      ],
      "source": [
        "import pandas as pd\n",
        "\n",
        "place = pd.Series(array_dict['place'], name='place')\n",
        "place"
      ]
    },
    {
      "cell_type": "markdown",
      "metadata": {
        "id": "22KueTXeggqc"
      },
      "source": [
        "Here are some commonly used attributes with `Series` objects:\n",
        "\n",
        "|Attribute | Returns |\n",
        "| --- | --- |\n",
        "| `name` | The name of the `Series` object |\n",
        "| `dtype` | The data type of the `Series` object |\n",
        "| `shape` | Dimensions of the `Series` object in a tuple of the form `(number of rows,)` |\n",
        "| `index` | The `Index` object that is part of the `Series` object |\n",
        "| `values` | The data in the `Series` object |\n",
        "\n",
        "For the most part, `pandas` objects use NumPy arrays for their internal data representations. However, for some data types, `pandas` builds upon NumPy to create its own [arrays](https://pandas.pydata.org/pandas-docs/stable/reference/arrays.html). For this reason, depending on the data type, `values` can either be a `pandas.array` or `numpy.array` object. Therefore, if we need to ensure we get a specific type back, then it is recommended to use the `array` attribute or `to_numpy()` method, respectively, instead of `values`.\n",
        "\n",
        "Now let's see some examples using these attributes.\n",
        "\n",
        "### Getting the name of the series\n",
        "The NumPy array held the name of the data in the `dtype` attribute; here, we can access it directly:"
      ]
    },
    {
      "cell_type": "code",
      "execution_count": null,
      "metadata": {
        "id": "V2kwNusGggqc",
        "outputId": "48949868-1ff4-4b59-f182-4fa146f490d8",
        "colab": {
          "base_uri": "https://localhost:8080/",
          "height": 36
        }
      },
      "outputs": [
        {
          "output_type": "execute_result",
          "data": {
            "text/plain": [
              "'place'"
            ],
            "application/vnd.google.colaboratory.intrinsic+json": {
              "type": "string"
            }
          },
          "metadata": {},
          "execution_count": 27
        }
      ],
      "source": [
        "place.name"
      ]
    },
    {
      "cell_type": "markdown",
      "metadata": {
        "id": "ovTbTokEggqc"
      },
      "source": [
        "### Getting the data type\n",
        "A `Series` object holds a single data type. Here it is `'O'` for object."
      ]
    },
    {
      "cell_type": "code",
      "execution_count": null,
      "metadata": {
        "id": "nlQxWHcdggqd",
        "outputId": "d25e8357-ecac-4fc1-ff51-dcf3fa2422c0",
        "colab": {
          "base_uri": "https://localhost:8080/"
        }
      },
      "outputs": [
        {
          "output_type": "execute_result",
          "data": {
            "text/plain": [
              "dtype('O')"
            ]
          },
          "metadata": {},
          "execution_count": 28
        }
      ],
      "source": [
        "place.dtype"
      ]
    },
    {
      "cell_type": "markdown",
      "metadata": {
        "id": "rC_Tsfpjggqd"
      },
      "source": [
        "### Getting the dimensions of the series\n",
        "Just as with NumPy, we can use `shape` to get the dimensions as `(rows, columns)`. `Series` objects are a single column, so they only have values for the rows dimension."
      ]
    },
    {
      "cell_type": "code",
      "execution_count": null,
      "metadata": {
        "id": "Tp4shd4_ggqd",
        "outputId": "6cc87765-361e-4977-cee1-773d6fb7af96"
      },
      "outputs": [
        {
          "data": {
            "text/plain": [
              "(5,)"
            ]
          },
          "execution_count": 11,
          "metadata": {},
          "output_type": "execute_result"
        }
      ],
      "source": [
        "place.shape"
      ]
    },
    {
      "cell_type": "markdown",
      "metadata": {
        "id": "lMAu02obggqd"
      },
      "source": [
        "### Isolating the values from the series\n",
        "This `Series` object is storing its values as a NumPy array:"
      ]
    },
    {
      "cell_type": "code",
      "execution_count": null,
      "metadata": {
        "id": "YX5H9sjPggqd",
        "outputId": "a4e455fd-d1fc-479c-a425-1f25f8f2a814",
        "colab": {
          "base_uri": "https://localhost:8080/"
        }
      },
      "outputs": [
        {
          "output_type": "execute_result",
          "data": {
            "text/plain": [
              "array(['262km NW of Ozernovskiy, Russia', '25km E of Bitung, Indonesia',\n",
              "       '42km WNW of Sola, Vanuatu',\n",
              "       '13km E of Nueva Concepcion, Guatemala',\n",
              "       '128km SE of Kimbe, Papua New Guinea'], dtype=object)"
            ]
          },
          "metadata": {},
          "execution_count": 29
        }
      ],
      "source": [
        "place.values"
      ]
    },
    {
      "cell_type": "markdown",
      "metadata": {
        "id": "1gNaOJVCggqd"
      },
      "source": [
        "## `Index`\n",
        "The addition of the `Index` class makes the `Series` class more powerful than a NumPy array. We can get the index from the `index` attribute of a `Series` object:"
      ]
    },
    {
      "cell_type": "code",
      "execution_count": null,
      "metadata": {
        "id": "8_8x4DjXggqd",
        "outputId": "76776385-b643-45ab-ef83-4e27b9a7465e",
        "colab": {
          "base_uri": "https://localhost:8080/"
        }
      },
      "outputs": [
        {
          "output_type": "execute_result",
          "data": {
            "text/plain": [
              "RangeIndex(start=0, stop=5, step=1)"
            ]
          },
          "metadata": {},
          "execution_count": 30
        }
      ],
      "source": [
        "place_index = place.index\n",
        "place_index #check return"
      ]
    },
    {
      "cell_type": "markdown",
      "metadata": {
        "id": "TgZc6_Ofggqd"
      },
      "source": [
        "As with `Series` objects, we can access the underlying data via the `values` attribute. Note that this `Index` object is also built on top of a NumPy array:"
      ]
    },
    {
      "cell_type": "code",
      "execution_count": null,
      "metadata": {
        "id": "joY__dI_ggqd",
        "outputId": "b661baab-14f0-4e2b-ef06-807ba9df3dff",
        "colab": {
          "base_uri": "https://localhost:8080/"
        }
      },
      "outputs": [
        {
          "output_type": "execute_result",
          "data": {
            "text/plain": [
              "array([0, 1, 2, 3, 4])"
            ]
          },
          "metadata": {},
          "execution_count": 31
        }
      ],
      "source": [
        "place_index.values"
      ]
    },
    {
      "cell_type": "markdown",
      "metadata": {
        "id": "mxHKZZTtggqd"
      },
      "source": [
        "Here are some commonly used attributes with `Index` objects:\n",
        "\n",
        "|Attribute | Returns |\n",
        "| --- | --- |\n",
        "| `name` | The name of the `Index` object |\n",
        "| `dtype` | The data type of the `Index` object |\n",
        "| `shape` | Dimensions of the `Index` object |\n",
        "| `values` | The data in the `Index` object |\n",
        "| `is_unique` | Check if the `Index` object has all unique values |\n",
        "\n",
        "We can check the type of the underlying data, just like with a `Series` object:"
      ]
    },
    {
      "cell_type": "code",
      "execution_count": null,
      "metadata": {
        "id": "eA21eywAggqd",
        "outputId": "a9d5e2ba-978a-4e48-b05d-31a055f7b135",
        "colab": {
          "base_uri": "https://localhost:8080/"
        }
      },
      "outputs": [
        {
          "output_type": "execute_result",
          "data": {
            "text/plain": [
              "dtype('int64')"
            ]
          },
          "metadata": {},
          "execution_count": 32
        }
      ],
      "source": [
        "place_index.dtype"
      ]
    },
    {
      "cell_type": "markdown",
      "metadata": {
        "id": "ivqacxgSggqd"
      },
      "source": [
        "Same for the dimensions:"
      ]
    },
    {
      "cell_type": "code",
      "execution_count": null,
      "metadata": {
        "id": "Ff4csKluggqe",
        "outputId": "bda6d594-ee0f-44a3-8687-ea9d6ec85343",
        "colab": {
          "base_uri": "https://localhost:8080/"
        }
      },
      "outputs": [
        {
          "output_type": "execute_result",
          "data": {
            "text/plain": [
              "(5,)"
            ]
          },
          "metadata": {},
          "execution_count": 33
        }
      ],
      "source": [
        "place_index.shape"
      ]
    },
    {
      "cell_type": "markdown",
      "metadata": {
        "id": "Toy_UTVsggqe"
      },
      "source": [
        "We can check if the values are unique:"
      ]
    },
    {
      "cell_type": "code",
      "execution_count": null,
      "metadata": {
        "id": "pdPnYY-Zggqe",
        "outputId": "b82972cc-74df-4481-b892-e2bc36f82cc7",
        "colab": {
          "base_uri": "https://localhost:8080/"
        }
      },
      "outputs": [
        {
          "output_type": "execute_result",
          "data": {
            "text/plain": [
              "True"
            ]
          },
          "metadata": {},
          "execution_count": 34
        }
      ],
      "source": [
        "place_index.is_unique"
      ]
    },
    {
      "cell_type": "markdown",
      "metadata": {
        "id": "qZrHsAPHggqe"
      },
      "source": [
        "With NumPy we can perform arithmetic operations element-wise between arrays:"
      ]
    },
    {
      "cell_type": "code",
      "execution_count": null,
      "metadata": {
        "id": "JH6S433Pggqe",
        "outputId": "3a226b68-9b7d-4768-e902-79d5c8656bbb"
      },
      "outputs": [
        {
          "data": {
            "text/plain": [
              "array([0, 1, 2])"
            ]
          },
          "execution_count": 18,
          "metadata": {},
          "output_type": "execute_result"
        }
      ],
      "source": [
        "np.array([1, 1, 1]) + np.array([-1, 0, 1])"
      ]
    },
    {
      "cell_type": "markdown",
      "metadata": {
        "id": "MWe__Lfxggqe"
      },
      "source": [
        "Pandas supports this as well, and the index determines how element-wise operations are performed. With addition, only the matching indices are summed:"
      ]
    },
    {
      "cell_type": "code",
      "source": [
        "x = pd.Series(numbers)\n",
        "x"
      ],
      "metadata": {
        "colab": {
          "base_uri": "https://localhost:8080/",
          "height": 241
        },
        "id": "9VqTaadWlDNF",
        "outputId": "ad51031b-835b-410f-f1fc-13afdf51429a"
      },
      "execution_count": null,
      "outputs": [
        {
          "output_type": "execute_result",
          "data": {
            "text/plain": [
              "0     0.0\n",
              "1     2.5\n",
              "2     5.0\n",
              "3     7.5\n",
              "4    10.0\n",
              "dtype: float64"
            ],
            "text/html": [
              "<div>\n",
              "<style scoped>\n",
              "    .dataframe tbody tr th:only-of-type {\n",
              "        vertical-align: middle;\n",
              "    }\n",
              "\n",
              "    .dataframe tbody tr th {\n",
              "        vertical-align: top;\n",
              "    }\n",
              "\n",
              "    .dataframe thead th {\n",
              "        text-align: right;\n",
              "    }\n",
              "</style>\n",
              "<table border=\"1\" class=\"dataframe\">\n",
              "  <thead>\n",
              "    <tr style=\"text-align: right;\">\n",
              "      <th></th>\n",
              "      <th>0</th>\n",
              "    </tr>\n",
              "  </thead>\n",
              "  <tbody>\n",
              "    <tr>\n",
              "      <th>0</th>\n",
              "      <td>0.0</td>\n",
              "    </tr>\n",
              "    <tr>\n",
              "      <th>1</th>\n",
              "      <td>2.5</td>\n",
              "    </tr>\n",
              "    <tr>\n",
              "      <th>2</th>\n",
              "      <td>5.0</td>\n",
              "    </tr>\n",
              "    <tr>\n",
              "      <th>3</th>\n",
              "      <td>7.5</td>\n",
              "    </tr>\n",
              "    <tr>\n",
              "      <th>4</th>\n",
              "      <td>10.0</td>\n",
              "    </tr>\n",
              "  </tbody>\n",
              "</table>\n",
              "</div><br><label><b>dtype:</b> float64</label>"
            ]
          },
          "metadata": {},
          "execution_count": 37
        }
      ]
    },
    {
      "cell_type": "code",
      "source": [
        "y = pd.Series(numbers, index=pd.Index([1, 2, 3, 4, 5]))\n",
        "y"
      ],
      "metadata": {
        "colab": {
          "base_uri": "https://localhost:8080/",
          "height": 241
        },
        "id": "aU0HD4rylHqO",
        "outputId": "0ff83001-7f2a-452e-8953-807c44621c76"
      },
      "execution_count": null,
      "outputs": [
        {
          "output_type": "execute_result",
          "data": {
            "text/plain": [
              "1     0.0\n",
              "2     2.5\n",
              "3     5.0\n",
              "4     7.5\n",
              "5    10.0\n",
              "dtype: float64"
            ],
            "text/html": [
              "<div>\n",
              "<style scoped>\n",
              "    .dataframe tbody tr th:only-of-type {\n",
              "        vertical-align: middle;\n",
              "    }\n",
              "\n",
              "    .dataframe tbody tr th {\n",
              "        vertical-align: top;\n",
              "    }\n",
              "\n",
              "    .dataframe thead th {\n",
              "        text-align: right;\n",
              "    }\n",
              "</style>\n",
              "<table border=\"1\" class=\"dataframe\">\n",
              "  <thead>\n",
              "    <tr style=\"text-align: right;\">\n",
              "      <th></th>\n",
              "      <th>0</th>\n",
              "    </tr>\n",
              "  </thead>\n",
              "  <tbody>\n",
              "    <tr>\n",
              "      <th>1</th>\n",
              "      <td>0.0</td>\n",
              "    </tr>\n",
              "    <tr>\n",
              "      <th>2</th>\n",
              "      <td>2.5</td>\n",
              "    </tr>\n",
              "    <tr>\n",
              "      <th>3</th>\n",
              "      <td>5.0</td>\n",
              "    </tr>\n",
              "    <tr>\n",
              "      <th>4</th>\n",
              "      <td>7.5</td>\n",
              "    </tr>\n",
              "    <tr>\n",
              "      <th>5</th>\n",
              "      <td>10.0</td>\n",
              "    </tr>\n",
              "  </tbody>\n",
              "</table>\n",
              "</div><br><label><b>dtype:</b> float64</label>"
            ]
          },
          "metadata": {},
          "execution_count": 38
        }
      ]
    },
    {
      "cell_type": "code",
      "execution_count": null,
      "metadata": {
        "id": "kVGLmT07ggqe",
        "outputId": "fa3cdf07-1c72-4cd6-c690-c57ef6376cc3",
        "colab": {
          "base_uri": "https://localhost:8080/",
          "height": 272
        }
      },
      "outputs": [
        {
          "output_type": "execute_result",
          "data": {
            "text/plain": [
              "0     NaN\n",
              "1     2.5\n",
              "2     7.5\n",
              "3    12.5\n",
              "4    17.5\n",
              "5     NaN\n",
              "dtype: float64"
            ],
            "text/html": [
              "<div>\n",
              "<style scoped>\n",
              "    .dataframe tbody tr th:only-of-type {\n",
              "        vertical-align: middle;\n",
              "    }\n",
              "\n",
              "    .dataframe tbody tr th {\n",
              "        vertical-align: top;\n",
              "    }\n",
              "\n",
              "    .dataframe thead th {\n",
              "        text-align: right;\n",
              "    }\n",
              "</style>\n",
              "<table border=\"1\" class=\"dataframe\">\n",
              "  <thead>\n",
              "    <tr style=\"text-align: right;\">\n",
              "      <th></th>\n",
              "      <th>0</th>\n",
              "    </tr>\n",
              "  </thead>\n",
              "  <tbody>\n",
              "    <tr>\n",
              "      <th>0</th>\n",
              "      <td>NaN</td>\n",
              "    </tr>\n",
              "    <tr>\n",
              "      <th>1</th>\n",
              "      <td>2.5</td>\n",
              "    </tr>\n",
              "    <tr>\n",
              "      <th>2</th>\n",
              "      <td>7.5</td>\n",
              "    </tr>\n",
              "    <tr>\n",
              "      <th>3</th>\n",
              "      <td>12.5</td>\n",
              "    </tr>\n",
              "    <tr>\n",
              "      <th>4</th>\n",
              "      <td>17.5</td>\n",
              "    </tr>\n",
              "    <tr>\n",
              "      <th>5</th>\n",
              "      <td>NaN</td>\n",
              "    </tr>\n",
              "  </tbody>\n",
              "</table>\n",
              "</div><br><label><b>dtype:</b> float64</label>"
            ]
          },
          "metadata": {},
          "execution_count": 36
        }
      ],
      "source": [
        "numbers = np.linspace(0, 10, num=5) # makes numpy array([0, 2.5, 5, 7.5, 10])\n",
        "x = pd.Series(numbers) # index is [0, 1, 2, 3, 4]\n",
        "y = pd.Series(numbers, index=pd.Index([1, 2, 3, 4, 5]))\n",
        "x + y #based on matching index"
      ]
    },
    {
      "cell_type": "markdown",
      "metadata": {
        "id": "VvLr-3AGggqe"
      },
      "source": [
        "We aren't limited to the integer indices of list-like structures, and we can label our rows. The labels can be altered at any time and be things like dates or even another column. In chapter 3, we will discuss how to perform some operations on the index in order to change it. Then, in chapter 4, we will use the index for operations merging data and aggregating it.\n",
        "\n",
        "## `DataFrame`\n",
        "Having a `Series` object for each column is an improvement over the NumPy representation; however, we still have the same problem when wanting to sort based on a value or grab an entire row out. The `DataFrame` gives us a representation of a table formed from many `Series` objects that form the columns and a shared `Index` object that labels the rows. We can create a `DataFrame` object from either of the NumPy representations we were working with earlier (we could also make a `Series` object for each column, but there is no need to do so):"
      ]
    },
    {
      "cell_type": "code",
      "source": [
        "array_dict"
      ],
      "metadata": {
        "colab": {
          "base_uri": "https://localhost:8080/"
        },
        "id": "WGGZwQc7lZFY",
        "outputId": "51b56032-0524-44b7-9b47-87320f0ae403"
      },
      "execution_count": null,
      "outputs": [
        {
          "output_type": "execute_result",
          "data": {
            "text/plain": [
              "{'time': array(['2018-10-13 11:10:23.560', '2018-10-13 04:34:15.580',\n",
              "        '2018-10-13 00:13:46.220', '2018-10-12 21:09:49.240',\n",
              "        '2018-10-12 02:52:03.620'], dtype='<U23'),\n",
              " 'place': array(['262km NW of Ozernovskiy, Russia', '25km E of Bitung, Indonesia',\n",
              "        '42km WNW of Sola, Vanuatu',\n",
              "        '13km E of Nueva Concepcion, Guatemala',\n",
              "        '128km SE of Kimbe, Papua New Guinea'], dtype='<U37'),\n",
              " 'magType': array(['mww', 'mww', 'mww', 'mww', 'mww'], dtype='<U3'),\n",
              " 'mag': array([6.7, 5.2, 5.7, 5.7, 5.6]),\n",
              " 'alert': array(['green', 'green', 'green', 'green', 'green'], dtype='<U5'),\n",
              " 'tsunami': array([1, 0, 0, 0, 1])}"
            ]
          },
          "metadata": {},
          "execution_count": 40
        }
      ]
    },
    {
      "cell_type": "code",
      "execution_count": null,
      "metadata": {
        "id": "sOVASHMjggqj",
        "outputId": "49b19332-7884-4d96-d7a3-452dbede8f3e",
        "colab": {
          "base_uri": "https://localhost:8080/",
          "height": 206
        }
      },
      "outputs": [
        {
          "output_type": "execute_result",
          "data": {
            "text/plain": [
              "                      time                                  place magType  \\\n",
              "0  2018-10-13 11:10:23.560        262km NW of Ozernovskiy, Russia     mww   \n",
              "1  2018-10-13 04:34:15.580            25km E of Bitung, Indonesia     mww   \n",
              "2  2018-10-13 00:13:46.220              42km WNW of Sola, Vanuatu     mww   \n",
              "3  2018-10-12 21:09:49.240  13km E of Nueva Concepcion, Guatemala     mww   \n",
              "4  2018-10-12 02:52:03.620    128km SE of Kimbe, Papua New Guinea     mww   \n",
              "\n",
              "   mag  alert  tsunami  \n",
              "0  6.7  green        1  \n",
              "1  5.2  green        0  \n",
              "2  5.7  green        0  \n",
              "3  5.7  green        0  \n",
              "4  5.6  green        1  "
            ],
            "text/html": [
              "\n",
              "  <div id=\"df-001c597a-099d-4280-b9b8-cc9d05e14db4\" class=\"colab-df-container\">\n",
              "    <div>\n",
              "<style scoped>\n",
              "    .dataframe tbody tr th:only-of-type {\n",
              "        vertical-align: middle;\n",
              "    }\n",
              "\n",
              "    .dataframe tbody tr th {\n",
              "        vertical-align: top;\n",
              "    }\n",
              "\n",
              "    .dataframe thead th {\n",
              "        text-align: right;\n",
              "    }\n",
              "</style>\n",
              "<table border=\"1\" class=\"dataframe\">\n",
              "  <thead>\n",
              "    <tr style=\"text-align: right;\">\n",
              "      <th></th>\n",
              "      <th>time</th>\n",
              "      <th>place</th>\n",
              "      <th>magType</th>\n",
              "      <th>mag</th>\n",
              "      <th>alert</th>\n",
              "      <th>tsunami</th>\n",
              "    </tr>\n",
              "  </thead>\n",
              "  <tbody>\n",
              "    <tr>\n",
              "      <th>0</th>\n",
              "      <td>2018-10-13 11:10:23.560</td>\n",
              "      <td>262km NW of Ozernovskiy, Russia</td>\n",
              "      <td>mww</td>\n",
              "      <td>6.7</td>\n",
              "      <td>green</td>\n",
              "      <td>1</td>\n",
              "    </tr>\n",
              "    <tr>\n",
              "      <th>1</th>\n",
              "      <td>2018-10-13 04:34:15.580</td>\n",
              "      <td>25km E of Bitung, Indonesia</td>\n",
              "      <td>mww</td>\n",
              "      <td>5.2</td>\n",
              "      <td>green</td>\n",
              "      <td>0</td>\n",
              "    </tr>\n",
              "    <tr>\n",
              "      <th>2</th>\n",
              "      <td>2018-10-13 00:13:46.220</td>\n",
              "      <td>42km WNW of Sola, Vanuatu</td>\n",
              "      <td>mww</td>\n",
              "      <td>5.7</td>\n",
              "      <td>green</td>\n",
              "      <td>0</td>\n",
              "    </tr>\n",
              "    <tr>\n",
              "      <th>3</th>\n",
              "      <td>2018-10-12 21:09:49.240</td>\n",
              "      <td>13km E of Nueva Concepcion, Guatemala</td>\n",
              "      <td>mww</td>\n",
              "      <td>5.7</td>\n",
              "      <td>green</td>\n",
              "      <td>0</td>\n",
              "    </tr>\n",
              "    <tr>\n",
              "      <th>4</th>\n",
              "      <td>2018-10-12 02:52:03.620</td>\n",
              "      <td>128km SE of Kimbe, Papua New Guinea</td>\n",
              "      <td>mww</td>\n",
              "      <td>5.6</td>\n",
              "      <td>green</td>\n",
              "      <td>1</td>\n",
              "    </tr>\n",
              "  </tbody>\n",
              "</table>\n",
              "</div>\n",
              "    <div class=\"colab-df-buttons\">\n",
              "\n",
              "  <div class=\"colab-df-container\">\n",
              "    <button class=\"colab-df-convert\" onclick=\"convertToInteractive('df-001c597a-099d-4280-b9b8-cc9d05e14db4')\"\n",
              "            title=\"Convert this dataframe to an interactive table.\"\n",
              "            style=\"display:none;\">\n",
              "\n",
              "  <svg xmlns=\"http://www.w3.org/2000/svg\" height=\"24px\" viewBox=\"0 -960 960 960\">\n",
              "    <path d=\"M120-120v-720h720v720H120Zm60-500h600v-160H180v160Zm220 220h160v-160H400v160Zm0 220h160v-160H400v160ZM180-400h160v-160H180v160Zm440 0h160v-160H620v160ZM180-180h160v-160H180v160Zm440 0h160v-160H620v160Z\"/>\n",
              "  </svg>\n",
              "    </button>\n",
              "\n",
              "  <style>\n",
              "    .colab-df-container {\n",
              "      display:flex;\n",
              "      gap: 12px;\n",
              "    }\n",
              "\n",
              "    .colab-df-convert {\n",
              "      background-color: #E8F0FE;\n",
              "      border: none;\n",
              "      border-radius: 50%;\n",
              "      cursor: pointer;\n",
              "      display: none;\n",
              "      fill: #1967D2;\n",
              "      height: 32px;\n",
              "      padding: 0 0 0 0;\n",
              "      width: 32px;\n",
              "    }\n",
              "\n",
              "    .colab-df-convert:hover {\n",
              "      background-color: #E2EBFA;\n",
              "      box-shadow: 0px 1px 2px rgba(60, 64, 67, 0.3), 0px 1px 3px 1px rgba(60, 64, 67, 0.15);\n",
              "      fill: #174EA6;\n",
              "    }\n",
              "\n",
              "    .colab-df-buttons div {\n",
              "      margin-bottom: 4px;\n",
              "    }\n",
              "\n",
              "    [theme=dark] .colab-df-convert {\n",
              "      background-color: #3B4455;\n",
              "      fill: #D2E3FC;\n",
              "    }\n",
              "\n",
              "    [theme=dark] .colab-df-convert:hover {\n",
              "      background-color: #434B5C;\n",
              "      box-shadow: 0px 1px 3px 1px rgba(0, 0, 0, 0.15);\n",
              "      filter: drop-shadow(0px 1px 2px rgba(0, 0, 0, 0.3));\n",
              "      fill: #FFFFFF;\n",
              "    }\n",
              "  </style>\n",
              "\n",
              "    <script>\n",
              "      const buttonEl =\n",
              "        document.querySelector('#df-001c597a-099d-4280-b9b8-cc9d05e14db4 button.colab-df-convert');\n",
              "      buttonEl.style.display =\n",
              "        google.colab.kernel.accessAllowed ? 'block' : 'none';\n",
              "\n",
              "      async function convertToInteractive(key) {\n",
              "        const element = document.querySelector('#df-001c597a-099d-4280-b9b8-cc9d05e14db4');\n",
              "        const dataTable =\n",
              "          await google.colab.kernel.invokeFunction('convertToInteractive',\n",
              "                                                    [key], {});\n",
              "        if (!dataTable) return;\n",
              "\n",
              "        const docLinkHtml = 'Like what you see? Visit the ' +\n",
              "          '<a target=\"_blank\" href=https://colab.research.google.com/notebooks/data_table.ipynb>data table notebook</a>'\n",
              "          + ' to learn more about interactive tables.';\n",
              "        element.innerHTML = '';\n",
              "        dataTable['output_type'] = 'display_data';\n",
              "        await google.colab.output.renderOutput(dataTable, element);\n",
              "        const docLink = document.createElement('div');\n",
              "        docLink.innerHTML = docLinkHtml;\n",
              "        element.appendChild(docLink);\n",
              "      }\n",
              "    </script>\n",
              "  </div>\n",
              "\n",
              "\n",
              "<div id=\"df-4bb53472-c610-4dde-a528-69df1f0cb1af\">\n",
              "  <button class=\"colab-df-quickchart\" onclick=\"quickchart('df-4bb53472-c610-4dde-a528-69df1f0cb1af')\"\n",
              "            title=\"Suggest charts\"\n",
              "            style=\"display:none;\">\n",
              "\n",
              "<svg xmlns=\"http://www.w3.org/2000/svg\" height=\"24px\"viewBox=\"0 0 24 24\"\n",
              "     width=\"24px\">\n",
              "    <g>\n",
              "        <path d=\"M19 3H5c-1.1 0-2 .9-2 2v14c0 1.1.9 2 2 2h14c1.1 0 2-.9 2-2V5c0-1.1-.9-2-2-2zM9 17H7v-7h2v7zm4 0h-2V7h2v10zm4 0h-2v-4h2v4z\"/>\n",
              "    </g>\n",
              "</svg>\n",
              "  </button>\n",
              "\n",
              "<style>\n",
              "  .colab-df-quickchart {\n",
              "      --bg-color: #E8F0FE;\n",
              "      --fill-color: #1967D2;\n",
              "      --hover-bg-color: #E2EBFA;\n",
              "      --hover-fill-color: #174EA6;\n",
              "      --disabled-fill-color: #AAA;\n",
              "      --disabled-bg-color: #DDD;\n",
              "  }\n",
              "\n",
              "  [theme=dark] .colab-df-quickchart {\n",
              "      --bg-color: #3B4455;\n",
              "      --fill-color: #D2E3FC;\n",
              "      --hover-bg-color: #434B5C;\n",
              "      --hover-fill-color: #FFFFFF;\n",
              "      --disabled-bg-color: #3B4455;\n",
              "      --disabled-fill-color: #666;\n",
              "  }\n",
              "\n",
              "  .colab-df-quickchart {\n",
              "    background-color: var(--bg-color);\n",
              "    border: none;\n",
              "    border-radius: 50%;\n",
              "    cursor: pointer;\n",
              "    display: none;\n",
              "    fill: var(--fill-color);\n",
              "    height: 32px;\n",
              "    padding: 0;\n",
              "    width: 32px;\n",
              "  }\n",
              "\n",
              "  .colab-df-quickchart:hover {\n",
              "    background-color: var(--hover-bg-color);\n",
              "    box-shadow: 0 1px 2px rgba(60, 64, 67, 0.3), 0 1px 3px 1px rgba(60, 64, 67, 0.15);\n",
              "    fill: var(--button-hover-fill-color);\n",
              "  }\n",
              "\n",
              "  .colab-df-quickchart-complete:disabled,\n",
              "  .colab-df-quickchart-complete:disabled:hover {\n",
              "    background-color: var(--disabled-bg-color);\n",
              "    fill: var(--disabled-fill-color);\n",
              "    box-shadow: none;\n",
              "  }\n",
              "\n",
              "  .colab-df-spinner {\n",
              "    border: 2px solid var(--fill-color);\n",
              "    border-color: transparent;\n",
              "    border-bottom-color: var(--fill-color);\n",
              "    animation:\n",
              "      spin 1s steps(1) infinite;\n",
              "  }\n",
              "\n",
              "  @keyframes spin {\n",
              "    0% {\n",
              "      border-color: transparent;\n",
              "      border-bottom-color: var(--fill-color);\n",
              "      border-left-color: var(--fill-color);\n",
              "    }\n",
              "    20% {\n",
              "      border-color: transparent;\n",
              "      border-left-color: var(--fill-color);\n",
              "      border-top-color: var(--fill-color);\n",
              "    }\n",
              "    30% {\n",
              "      border-color: transparent;\n",
              "      border-left-color: var(--fill-color);\n",
              "      border-top-color: var(--fill-color);\n",
              "      border-right-color: var(--fill-color);\n",
              "    }\n",
              "    40% {\n",
              "      border-color: transparent;\n",
              "      border-right-color: var(--fill-color);\n",
              "      border-top-color: var(--fill-color);\n",
              "    }\n",
              "    60% {\n",
              "      border-color: transparent;\n",
              "      border-right-color: var(--fill-color);\n",
              "    }\n",
              "    80% {\n",
              "      border-color: transparent;\n",
              "      border-right-color: var(--fill-color);\n",
              "      border-bottom-color: var(--fill-color);\n",
              "    }\n",
              "    90% {\n",
              "      border-color: transparent;\n",
              "      border-bottom-color: var(--fill-color);\n",
              "    }\n",
              "  }\n",
              "</style>\n",
              "\n",
              "  <script>\n",
              "    async function quickchart(key) {\n",
              "      const quickchartButtonEl =\n",
              "        document.querySelector('#' + key + ' button');\n",
              "      quickchartButtonEl.disabled = true;  // To prevent multiple clicks.\n",
              "      quickchartButtonEl.classList.add('colab-df-spinner');\n",
              "      try {\n",
              "        const charts = await google.colab.kernel.invokeFunction(\n",
              "            'suggestCharts', [key], {});\n",
              "      } catch (error) {\n",
              "        console.error('Error during call to suggestCharts:', error);\n",
              "      }\n",
              "      quickchartButtonEl.classList.remove('colab-df-spinner');\n",
              "      quickchartButtonEl.classList.add('colab-df-quickchart-complete');\n",
              "    }\n",
              "    (() => {\n",
              "      let quickchartButtonEl =\n",
              "        document.querySelector('#df-4bb53472-c610-4dde-a528-69df1f0cb1af button');\n",
              "      quickchartButtonEl.style.display =\n",
              "        google.colab.kernel.accessAllowed ? 'block' : 'none';\n",
              "    })();\n",
              "  </script>\n",
              "</div>\n",
              "\n",
              "  <div id=\"id_fe46fd44-0323-410a-ae75-21ce93ed9821\">\n",
              "    <style>\n",
              "      .colab-df-generate {\n",
              "        background-color: #E8F0FE;\n",
              "        border: none;\n",
              "        border-radius: 50%;\n",
              "        cursor: pointer;\n",
              "        display: none;\n",
              "        fill: #1967D2;\n",
              "        height: 32px;\n",
              "        padding: 0 0 0 0;\n",
              "        width: 32px;\n",
              "      }\n",
              "\n",
              "      .colab-df-generate:hover {\n",
              "        background-color: #E2EBFA;\n",
              "        box-shadow: 0px 1px 2px rgba(60, 64, 67, 0.3), 0px 1px 3px 1px rgba(60, 64, 67, 0.15);\n",
              "        fill: #174EA6;\n",
              "      }\n",
              "\n",
              "      [theme=dark] .colab-df-generate {\n",
              "        background-color: #3B4455;\n",
              "        fill: #D2E3FC;\n",
              "      }\n",
              "\n",
              "      [theme=dark] .colab-df-generate:hover {\n",
              "        background-color: #434B5C;\n",
              "        box-shadow: 0px 1px 3px 1px rgba(0, 0, 0, 0.15);\n",
              "        filter: drop-shadow(0px 1px 2px rgba(0, 0, 0, 0.3));\n",
              "        fill: #FFFFFF;\n",
              "      }\n",
              "    </style>\n",
              "    <button class=\"colab-df-generate\" onclick=\"generateWithVariable('df')\"\n",
              "            title=\"Generate code using this dataframe.\"\n",
              "            style=\"display:none;\">\n",
              "\n",
              "  <svg xmlns=\"http://www.w3.org/2000/svg\" height=\"24px\"viewBox=\"0 0 24 24\"\n",
              "       width=\"24px\">\n",
              "    <path d=\"M7,19H8.4L18.45,9,17,7.55,7,17.6ZM5,21V16.75L18.45,3.32a2,2,0,0,1,2.83,0l1.4,1.43a1.91,1.91,0,0,1,.58,1.4,1.91,1.91,0,0,1-.58,1.4L9.25,21ZM18.45,9,17,7.55Zm-12,3A5.31,5.31,0,0,0,4.9,8.1,5.31,5.31,0,0,0,1,6.5,5.31,5.31,0,0,0,4.9,4.9,5.31,5.31,0,0,0,6.5,1,5.31,5.31,0,0,0,8.1,4.9,5.31,5.31,0,0,0,12,6.5,5.46,5.46,0,0,0,6.5,12Z\"/>\n",
              "  </svg>\n",
              "    </button>\n",
              "    <script>\n",
              "      (() => {\n",
              "      const buttonEl =\n",
              "        document.querySelector('#id_fe46fd44-0323-410a-ae75-21ce93ed9821 button.colab-df-generate');\n",
              "      buttonEl.style.display =\n",
              "        google.colab.kernel.accessAllowed ? 'block' : 'none';\n",
              "\n",
              "      buttonEl.onclick = () => {\n",
              "        google.colab.notebook.generateWithVariable('df');\n",
              "      }\n",
              "      })();\n",
              "    </script>\n",
              "  </div>\n",
              "\n",
              "    </div>\n",
              "  </div>\n"
            ],
            "application/vnd.google.colaboratory.intrinsic+json": {
              "type": "dataframe",
              "variable_name": "df",
              "summary": "{\n  \"name\": \"df\",\n  \"rows\": 5,\n  \"fields\": [\n    {\n      \"column\": \"time\",\n      \"properties\": {\n        \"dtype\": \"object\",\n        \"num_unique_values\": 5,\n        \"samples\": [\n          \"2018-10-13 04:34:15.580\",\n          \"2018-10-12 02:52:03.620\",\n          \"2018-10-13 00:13:46.220\"\n        ],\n        \"semantic_type\": \"\",\n        \"description\": \"\"\n      }\n    },\n    {\n      \"column\": \"place\",\n      \"properties\": {\n        \"dtype\": \"string\",\n        \"num_unique_values\": 5,\n        \"samples\": [\n          \"25km E of Bitung, Indonesia\",\n          \"128km SE of Kimbe, Papua New Guinea\",\n          \"42km WNW of Sola, Vanuatu\"\n        ],\n        \"semantic_type\": \"\",\n        \"description\": \"\"\n      }\n    },\n    {\n      \"column\": \"magType\",\n      \"properties\": {\n        \"dtype\": \"category\",\n        \"num_unique_values\": 1,\n        \"samples\": [\n          \"mww\"\n        ],\n        \"semantic_type\": \"\",\n        \"description\": \"\"\n      }\n    },\n    {\n      \"column\": \"mag\",\n      \"properties\": {\n        \"dtype\": \"number\",\n        \"std\": 0.5540758070878028,\n        \"min\": 5.2,\n        \"max\": 6.7,\n        \"num_unique_values\": 4,\n        \"samples\": [\n          5.2\n        ],\n        \"semantic_type\": \"\",\n        \"description\": \"\"\n      }\n    },\n    {\n      \"column\": \"alert\",\n      \"properties\": {\n        \"dtype\": \"category\",\n        \"num_unique_values\": 1,\n        \"samples\": [\n          \"green\"\n        ],\n        \"semantic_type\": \"\",\n        \"description\": \"\"\n      }\n    },\n    {\n      \"column\": \"tsunami\",\n      \"properties\": {\n        \"dtype\": \"number\",\n        \"std\": 0,\n        \"min\": 0,\n        \"max\": 1,\n        \"num_unique_values\": 2,\n        \"samples\": [\n          0\n        ],\n        \"semantic_type\": \"\",\n        \"description\": \"\"\n      }\n    }\n  ]\n}"
            }
          },
          "metadata": {},
          "execution_count": 41
        }
      ],
      "source": [
        "df = pd.DataFrame(array_dict)\n",
        "\n",
        "# this will also work with the first representation\n",
        "# df = pd.DataFrame(data)\n",
        "\n",
        "df #compare 'data'"
      ]
    },
    {
      "cell_type": "code",
      "source": [
        "df['mag'].max() #make it easier"
      ],
      "metadata": {
        "colab": {
          "base_uri": "https://localhost:8080/"
        },
        "id": "Vuc8H5ZOls0o",
        "outputId": "9b8c5f6b-c450-4121-933d-4c5b1e80d3ec"
      },
      "execution_count": null,
      "outputs": [
        {
          "output_type": "execute_result",
          "data": {
            "text/plain": [
              "6.7"
            ]
          },
          "metadata": {},
          "execution_count": 43
        }
      ]
    },
    {
      "cell_type": "markdown",
      "metadata": {
        "id": "gTG3OWe7ggqk"
      },
      "source": [
        "We can check the type of the underlying data with `dtypes` (note that it is not `dtype` as with `Series` and `Index` objects since each column will have its own data type):"
      ]
    },
    {
      "cell_type": "code",
      "execution_count": null,
      "metadata": {
        "id": "GXniSL1rggqk",
        "outputId": "6ce5b89c-2bdb-4eae-b75b-cc76314ff6a8"
      },
      "outputs": [
        {
          "data": {
            "text/plain": [
              "time        object\n",
              "place       object\n",
              "magType     object\n",
              "mag        float64\n",
              "alert       object\n",
              "tsunami      int64\n",
              "dtype: object"
            ]
          },
          "execution_count": 21,
          "metadata": {},
          "output_type": "execute_result"
        }
      ],
      "source": [
        "df.dtypes"
      ]
    },
    {
      "cell_type": "markdown",
      "metadata": {
        "id": "pTTqjGEmggqk"
      },
      "source": [
        "We can get the underlying data with the `values` attribute. Note that this looks very similar to our initial NumPy representation:"
      ]
    },
    {
      "cell_type": "code",
      "execution_count": null,
      "metadata": {
        "id": "TnVCouBxggqk",
        "outputId": "4296413f-ba35-4521-94c1-41c078b5b660"
      },
      "outputs": [
        {
          "data": {
            "text/plain": [
              "array([['2018-10-13 11:10:23.560', '262km NW of Ozernovskiy, Russia',\n",
              "        'mww', 6.7, 'green', 1],\n",
              "       ['2018-10-13 04:34:15.580', '25km E of Bitung, Indonesia', 'mww',\n",
              "        5.2, 'green', 0],\n",
              "       ['2018-10-13 00:13:46.220', '42km WNW of Sola, Vanuatu', 'mww',\n",
              "        5.7, 'green', 0],\n",
              "       ['2018-10-12 21:09:49.240',\n",
              "        '13km E of Nueva Concepcion, Guatemala', 'mww', 5.7, 'green', 0],\n",
              "       ['2018-10-12 02:52:03.620', '128km SE of Kimbe, Papua New Guinea',\n",
              "        'mww', 5.6, 'green', 1]], dtype=object)"
            ]
          },
          "execution_count": 22,
          "metadata": {},
          "output_type": "execute_result"
        }
      ],
      "source": [
        "df.values"
      ]
    },
    {
      "cell_type": "markdown",
      "metadata": {
        "id": "isHuZHVxggqk"
      },
      "source": [
        "We can isolate the columns with the `columns` attribute. Notice that the columns are actually an `Index` object just on a different axis (columns are the horizontal index while rows are the vertical index)."
      ]
    },
    {
      "cell_type": "code",
      "execution_count": null,
      "metadata": {
        "id": "m9lbj1rjggqk",
        "outputId": "d5bbaac1-94c2-4b74-ce5a-1c1db2ca05ac"
      },
      "outputs": [
        {
          "data": {
            "text/plain": [
              "Index(['time', 'place', 'magType', 'mag', 'alert', 'tsunami'], dtype='object')"
            ]
          },
          "execution_count": 23,
          "metadata": {},
          "output_type": "execute_result"
        }
      ],
      "source": [
        "df.columns"
      ]
    },
    {
      "cell_type": "markdown",
      "metadata": {
        "id": "_8H7p_9rggqk"
      },
      "source": [
        "Here are some commonly used attributes:\n",
        "\n",
        "|Attribute | Returns |\n",
        "| --- | --- |\n",
        "| `dtypes` | The data types of each column |\n",
        "| `shape` | Dimensions of the `DataFrame` object in a tuple of the form `(number of rows, number of columns)` |\n",
        "| `index` | The `Index` object along the rows of the `DataFrame` object |\n",
        "| `columns` | The name of the columns (as an `Index` object) |\n",
        "| `values` | The data in the `DataFrame` object |\n",
        "| `empty` | Check if the `DataFrame` object is empty |\n",
        "\n",
        "The `Index` object along the rows of the dataframe can be accessed via the `index` attribute (just as with `Series` objects):"
      ]
    },
    {
      "cell_type": "code",
      "execution_count": null,
      "metadata": {
        "id": "03a_noTLggqk",
        "outputId": "13ccd4c6-d16e-4d3b-e0b2-290fb9b32982"
      },
      "outputs": [
        {
          "data": {
            "text/plain": [
              "RangeIndex(start=0, stop=5, step=1)"
            ]
          },
          "execution_count": 24,
          "metadata": {},
          "output_type": "execute_result"
        }
      ],
      "source": [
        "df.index"
      ]
    },
    {
      "cell_type": "markdown",
      "metadata": {
        "id": "j8o_JXsvggqk"
      },
      "source": [
        "As with both `Series` and `Index` objects, we can get the dimensions of the dataframe with the `shape` attribute. The result is of the form `(nrows, ncols)`. Our dataframe has 5 rows and 6 columns:"
      ]
    },
    {
      "cell_type": "code",
      "execution_count": null,
      "metadata": {
        "id": "_5bN2YMGggqk",
        "outputId": "87dc1ddd-3c40-453b-bbad-989fe1fb8804"
      },
      "outputs": [
        {
          "data": {
            "text/plain": [
              "(5, 6)"
            ]
          },
          "execution_count": 25,
          "metadata": {},
          "output_type": "execute_result"
        }
      ],
      "source": [
        "df.shape"
      ]
    },
    {
      "cell_type": "markdown",
      "metadata": {
        "id": "iskd7JUjggqk"
      },
      "source": [
        "Note that we can also perform arithmetic on dataframes. Pandas will only perform the operation when both the index and column match. Here, we demonstrate addition. Since addition with strings means concatenation, `pandas` concatenated the string columns (`time`, `place`, `magType`, and `alert`) across dataframes. The numeric columns (`mag` and `tsunami`) were summed:"
      ]
    },
    {
      "cell_type": "code",
      "execution_count": null,
      "metadata": {
        "id": "-_7CDlfjggqk",
        "outputId": "e6343565-7f14-4d03-a4e7-8376edcc6509"
      },
      "outputs": [
        {
          "data": {
            "text/html": [
              "<div>\n",
              "<style scoped>\n",
              "    .dataframe tbody tr th:only-of-type {\n",
              "        vertical-align: middle;\n",
              "    }\n",
              "\n",
              "    .dataframe tbody tr th {\n",
              "        vertical-align: top;\n",
              "    }\n",
              "\n",
              "    .dataframe thead th {\n",
              "        text-align: right;\n",
              "    }\n",
              "</style>\n",
              "<table border=\"1\" class=\"dataframe\">\n",
              "  <thead>\n",
              "    <tr style=\"text-align: right;\">\n",
              "      <th></th>\n",
              "      <th>time</th>\n",
              "      <th>place</th>\n",
              "      <th>magType</th>\n",
              "      <th>mag</th>\n",
              "      <th>alert</th>\n",
              "      <th>tsunami</th>\n",
              "    </tr>\n",
              "  </thead>\n",
              "  <tbody>\n",
              "    <tr>\n",
              "      <th>0</th>\n",
              "      <td>2018-10-13 11:10:23.5602018-10-13 11:10:23.560</td>\n",
              "      <td>262km NW of Ozernovskiy, Russia262km NW of Oze...</td>\n",
              "      <td>mwwmww</td>\n",
              "      <td>13.4</td>\n",
              "      <td>greengreen</td>\n",
              "      <td>2</td>\n",
              "    </tr>\n",
              "    <tr>\n",
              "      <th>1</th>\n",
              "      <td>2018-10-13 04:34:15.5802018-10-13 04:34:15.580</td>\n",
              "      <td>25km E of Bitung, Indonesia25km E of Bitung, I...</td>\n",
              "      <td>mwwmww</td>\n",
              "      <td>10.4</td>\n",
              "      <td>greengreen</td>\n",
              "      <td>0</td>\n",
              "    </tr>\n",
              "    <tr>\n",
              "      <th>2</th>\n",
              "      <td>2018-10-13 00:13:46.2202018-10-13 00:13:46.220</td>\n",
              "      <td>42km WNW of Sola, Vanuatu42km WNW of Sola, Van...</td>\n",
              "      <td>mwwmww</td>\n",
              "      <td>11.4</td>\n",
              "      <td>greengreen</td>\n",
              "      <td>0</td>\n",
              "    </tr>\n",
              "    <tr>\n",
              "      <th>3</th>\n",
              "      <td>2018-10-12 21:09:49.2402018-10-12 21:09:49.240</td>\n",
              "      <td>13km E of Nueva Concepcion, Guatemala13km E of...</td>\n",
              "      <td>mwwmww</td>\n",
              "      <td>11.4</td>\n",
              "      <td>greengreen</td>\n",
              "      <td>0</td>\n",
              "    </tr>\n",
              "    <tr>\n",
              "      <th>4</th>\n",
              "      <td>2018-10-12 02:52:03.6202018-10-12 02:52:03.620</td>\n",
              "      <td>128km SE of Kimbe, Papua New Guinea128km SE of...</td>\n",
              "      <td>mwwmww</td>\n",
              "      <td>11.2</td>\n",
              "      <td>greengreen</td>\n",
              "      <td>2</td>\n",
              "    </tr>\n",
              "  </tbody>\n",
              "</table>\n",
              "</div>"
            ],
            "text/plain": [
              "                                             time  \\\n",
              "0  2018-10-13 11:10:23.5602018-10-13 11:10:23.560   \n",
              "1  2018-10-13 04:34:15.5802018-10-13 04:34:15.580   \n",
              "2  2018-10-13 00:13:46.2202018-10-13 00:13:46.220   \n",
              "3  2018-10-12 21:09:49.2402018-10-12 21:09:49.240   \n",
              "4  2018-10-12 02:52:03.6202018-10-12 02:52:03.620   \n",
              "\n",
              "                                               place magType   mag  \\\n",
              "0  262km NW of Ozernovskiy, Russia262km NW of Oze...  mwwmww  13.4   \n",
              "1  25km E of Bitung, Indonesia25km E of Bitung, I...  mwwmww  10.4   \n",
              "2  42km WNW of Sola, Vanuatu42km WNW of Sola, Van...  mwwmww  11.4   \n",
              "3  13km E of Nueva Concepcion, Guatemala13km E of...  mwwmww  11.4   \n",
              "4  128km SE of Kimbe, Papua New Guinea128km SE of...  mwwmww  11.2   \n",
              "\n",
              "        alert  tsunami  \n",
              "0  greengreen        2  \n",
              "1  greengreen        0  \n",
              "2  greengreen        0  \n",
              "3  greengreen        0  \n",
              "4  greengreen        2  "
            ]
          },
          "execution_count": 26,
          "metadata": {},
          "output_type": "execute_result"
        }
      ],
      "source": [
        "df + df"
      ]
    },
    {
      "cell_type": "markdown",
      "metadata": {
        "id": "u_hfp09Sggql"
      },
      "source": [
        "<hr>\n",
        "<div>\n",
        "    <a href=\"../ch_01/introduction_to_data_analysis.ipynb\">\n",
        "        <button style=\"float: left;\">&#8592; Chapter 1</button>\n",
        "    </a>\n",
        "    <a href=\"./2-creating_dataframes.ipynb\">\n",
        "        <button style=\"float: right;\">Next Notebook &#8594;</button>\n",
        "    </a>\n",
        "</div>\n",
        "<br>\n",
        "<hr>"
      ]
    }
  ],
  "metadata": {
    "kernelspec": {
      "display_name": "Python 3",
      "language": "python",
      "name": "python3"
    },
    "language_info": {
      "codemirror_mode": {
        "name": "ipython",
        "version": 3
      },
      "file_extension": ".py",
      "mimetype": "text/x-python",
      "name": "python",
      "nbconvert_exporter": "python",
      "pygments_lexer": "ipython3",
      "version": "3.7.3"
    },
    "colab": {
      "provenance": [],
      "include_colab_link": true
    }
  },
  "nbformat": 4,
  "nbformat_minor": 0
}