{
  "nbformat": 4,
  "nbformat_minor": 0,
  "metadata": {
    "colab": {
      "private_outputs": true,
      "provenance": [],
      "authorship_tag": "ABX9TyMwKI4PTdYh+84DSXCqa+Rf",
      "include_colab_link": true
    },
    "kernelspec": {
      "name": "python3",
      "display_name": "Python 3"
    },
    "language_info": {
      "name": "python"
    }
  },
  "cells": [
    {
      "cell_type": "markdown",
      "metadata": {
        "id": "view-in-github",
        "colab_type": "text"
      },
      "source": [
        "<a href=\"https://colab.research.google.com/github/moonihk/ML/blob/main/HW1.ipynb\" target=\"_parent\"><img src=\"https://colab.research.google.com/assets/colab-badge.svg\" alt=\"Open In Colab\"/></a>"
      ]
    },
    {
      "cell_type": "markdown",
      "source": [
        "# Test\n",
        "***Test***"
      ],
      "metadata": {
        "id": "CSZhSq3ChMuS"
      }
    },
    {
      "cell_type": "code",
      "source": [
        "5 + 7"
      ],
      "metadata": {
        "id": "qmRPxm1UhKlU"
      },
      "execution_count": null,
      "outputs": []
    },
    {
      "cell_type": "code",
      "source": [
        "5 + 7 < 0"
      ],
      "metadata": {
        "id": "q4cwia1Ihi6i"
      },
      "execution_count": null,
      "outputs": []
    }
  ]
}